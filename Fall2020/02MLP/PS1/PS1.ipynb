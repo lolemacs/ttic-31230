{
 "cells": [
  {
   "cell_type": "code",
   "execution_count": 3,
   "metadata": {
    "collapsed": false
   },
   "outputs": [
    {
     "data": {
      "image/png": "[encoded data removed]",
      "text/plain": [
       "<matplotlib.figure.Figure at 0x109c91cc0>"
      ]
     },
     "metadata": {},
     "output_type": "display_data"
    }
   ],
   "source": [
    "import numpy as np\n",
    "import matplotlib.pyplot as plt\n",
    "import edf\n",
    "import mnist_loader\n",
    "\n",
    "train_images, train_labels = mnist_loader.load_mnist(section = 'training', path = 'MNIST')\n",
    "test_images, test_labels = mnist_loader.load_mnist(section = 'testing', path = 'MNIST')\n",
    "\n",
    "plt.imshow(train_images[0], cmap='gray', interpolation = 'nearest')\n",
    "plt.show()"
   ]
  },
  {
   "cell_type": "code",
   "execution_count": 2,
   "metadata": {
    "collapsed": false
   },
   "outputs": [],
   "source": [
    "\"\"\"for debuggin purposes it is useful to\n",
    "make the computation deterministic\"\"\"\n",
    "\n",
    "np.random.seed(1234)\n",
    "\n",
    "# Now we build a model with random parameters\n",
    "\n",
    "x = edf.Input((28*28,))\n",
    "y = edf.Input((1,))\n",
    "    \n",
    "W1 = edf.Parameter(np.random.rand(20,28*28)*.1)\n",
    "W2 = edf.Parameter(np.random.rand(10,20)*.1)\n",
    "    \n",
    "L1 = edf.Sigmoid(edf.Norm(edf.VDot(W1,x)))\n",
    "L2 = edf.Softmax(edf.Norm(edf.VDot(W2,L1)))\n",
    "M = edf.Model(edf.NegLog(edf.Aref(L2,y)))\n",
    "    \n",
    "\"\"\"the following is needed by the learning code below to set\n",
    "the inputs (input and label are both \"inputs\" to the model)\"\"\"\n",
    "    \n",
    "M.x = x\n",
    "M.y = y\n"
   ]
  },
  {
   "cell_type": "code",
   "execution_count": null,
   "metadata": {
    "collapsed": false,
    "scrolled": false
   },
   "outputs": [],
   "source": [
    "\"\"\"the verify procedure does backpropagation and numerical\n",
    "differentiation and compares to the two. This is important\n",
    "for debugging componets.  When writing a new component\n",
    "one should verify a stub model that uses just that component.\n",
    "Discrepencies between backprop and numerical differntiation\n",
    "can be due to bugs, numerical precision issues, or nonlinearities\n",
    "in the model.  It is good to have your stub model is\n",
    "operating in a numerically stable regime.  Beware of sigmoids causing\n",
    "vanishing gradients.\"\"\"\n",
    "\n",
    "x.value = np.random.rand(28*28)\n",
    "y.value = np.zeros(1,np.int64)\n",
    "\n",
    "edf.verify(M)"
   ]
  },
  {
   "cell_type": "code",
   "execution_count": null,
   "metadata": {
    "collapsed": false
   },
   "outputs": [],
   "source": [
    "def train(M, nepochs):\n",
    "\n",
    "    learning_curve = []\n",
    "    train_curve = []\n",
    "    for i in range(nepochs):\n",
    "        train_an_epoch(M)\n",
    "        learning_curve.append(test_loss(M))\n",
    "        train_curve.append(train_loss(M))\n",
    "    return learning_curve, train_curve\n",
    "\n",
    "def train_an_epoch(M):\n",
    "    for i in range(train_images.shape[0]):\n",
    "        M.x.value = train_images[i].reshape((28*28,))\n",
    "        M.y.value[0] = train_labels[i]\n",
    "        M.backprop()\n",
    "        if i%10000 == 0:\n",
    "            print (\"batch: \" + str(i))\n",
    "\n",
    "def test_loss(M):\n",
    "    total = 0.0\n",
    "    numtest = test_images.shape[0]\n",
    "    for i in range(numtest):\n",
    "        M.x.value = test_images[i].reshape((28*28,))\n",
    "        M.y.value[0] = test_labels[i]\n",
    "        M.forward()\n",
    "        total = total + np.mean(M.loss.value)\n",
    "    return total/numtest\n",
    "\n",
    "def train_loss(M):\n",
    "    total = 0.0\n",
    "    numtrain = train_images.shape[0]\n",
    "    for i in range(numtrain):\n",
    "        M.x.value = train_images[i].reshape((28*28,))\n",
    "        M.y.value[0] = train_labels[i]\n",
    "        M.forward()\n",
    "        total = total + np.mean(M.loss.value)\n",
    "    return total/numtrain\n",
    "\n",
    "\n",
    "test_loss, train_loss = train(M,10)\n",
    "\n",
    "plt.xlabel(\"epochs\")\n",
    "plt.ylabel(\"loss\")\n",
    "plt.plot(np.arange(10), test_loss, color='red')\n",
    "plt.plot(np.arange(10), train_loss, color='blue')\n",
    "plt.legend(['test loss', 'train loss'], loc='upper right')\n",
    "plt.show()\n"
   ]
  },
  {
   "cell_type": "code",
   "execution_count": null,
   "metadata": {
    "collapsed": true
   },
   "outputs": [],
   "source": []
  }
 ],
 "metadata": {
  "anaconda-cloud": {},
  "kernelspec": {
   "display_name": "Python [default]",
   "language": "python",
   "name": "python3"
  },
  "language_info": {
   "codemirror_mode": {
    "name": "ipython",
    "version": 3
   },
   "file_extension": ".py",
   "mimetype": "text/x-python",
   "name": "python",
   "nbconvert_exporter": "python",
   "pygments_lexer": "ipython3",
   "version": "3.5.2"
  }
 },
 "nbformat": 4,
 "nbformat_minor": 1
}
